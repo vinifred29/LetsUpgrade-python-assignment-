{
  "nbformat": 4,
  "nbformat_minor": 0,
  "metadata": {
    "colab": {
      "name": "day 6 assignment.ipynb",
      "provenance": [],
      "collapsed_sections": [],
      "authorship_tag": "ABX9TyMapRsBmGoxdb1sizLNwAXp",
      "include_colab_link": true
    },
    "kernelspec": {
      "name": "python3",
      "display_name": "Python 3"
    }
  },
  "cells": [
    {
      "cell_type": "markdown",
      "metadata": {
        "id": "view-in-github",
        "colab_type": "text"
      },
      "source": [
        "<a href=\"https://colab.research.google.com/github/vinifred29/LetsUpgrade-python-assignment-/blob/master/day_6_assignment.ipynb\" target=\"_parent\"><img src=\"https://colab.research.google.com/assets/colab-badge.svg\" alt=\"Open In Colab\"/></a>"
      ]
    },
    {
      "cell_type": "code",
      "metadata": {
        "id": "4JACfZJJ-Iy-",
        "colab_type": "code",
        "colab": {
          "base_uri": "https://localhost:8080/",
          "height": 173
        },
        "outputId": "49d2f166-ea27-4ade-ec02-7b948c5bdf36"
      },
      "source": [
        "class bank_account:\n",
        "  name = str(input(\"enter name:\"))\n",
        "  def __init__(self):\n",
        "    self.balance = 0\n",
        "    print (\"The account is created\")\n",
        "  def deposit(self):\n",
        "    amount = float(input(\"Enter amount to be deposited: \"))\n",
        "    self.balance += amount\n",
        "    print(\"\\n Amount Deposited: \", amount)\n",
        "  def withdraw(self):\n",
        "    amount = float(input(\"Enter amount to be withdrawn: \"))  \n",
        "    if self.balance >= amount:\n",
        "      self.balance -= amount\n",
        "      print(\"\\n You Withdrew:\", amount)  \n",
        "    else:\n",
        "      print(\"\\n Insufficient balance  \")  \n",
        "s = bank_account()\n",
        "s.deposit()\n",
        "s.withdraw()"
      ],
      "execution_count": 2,
      "outputs": [
        {
          "output_type": "stream",
          "text": [
            "enter name:Nnivi\n",
            "The account is created\n",
            "Enter amount to be deposited: 6000\n",
            "\n",
            " Amount Deposited:  6000.0\n",
            "Enter amount to be withdrawn: 7000\n",
            "\n",
            " Insufficient balance  \n"
          ],
          "name": "stdout"
        }
      ]
    },
    {
      "cell_type": "markdown",
      "metadata": {
        "id": "o3bgpNSx98X2",
        "colab_type": "text"
      },
      "source": [
        "day 6 assignment 2"
      ]
    },
    {
      "cell_type": "code",
      "metadata": {
        "id": "D6gzoN7VyPY7",
        "colab_type": "code",
        "colab": {
          "base_uri": "https://localhost:8080/",
          "height": 101
        },
        "outputId": "71f31e61-4d79-41c3-81b3-dfd4ef2e36a6"
      },
      "source": [
        "import math \n",
        "class conevalue:\n",
        "  h = float(input(\"height :\"))\n",
        "  r = float(input(\"radius :\"))\n",
        "  s = float(input(\"side :\"))\n",
        "  def volume(r,h):\n",
        "    return (1/3)*math.pi*r*r*h\n",
        "\n",
        "\n",
        "  def surfacearea(r,s):\n",
        "    return math.pi*r*s+math.pi*r*r\n",
        "\n",
        "\n",
        "  print(\"volume of cone is\", volume(r,h))\n",
        "  print(\"surface area of cone is\", surfacearea(r,s))"
      ],
      "execution_count": null,
      "outputs": [
        {
          "output_type": "stream",
          "text": [
            "height :3\n",
            "radius :2\n",
            "side :6\n",
            "volume of cone is 12.566370614359172\n",
            "surface area of cone is 50.26548245743669\n"
          ],
          "name": "stdout"
        }
      ]
    }
  ]
}