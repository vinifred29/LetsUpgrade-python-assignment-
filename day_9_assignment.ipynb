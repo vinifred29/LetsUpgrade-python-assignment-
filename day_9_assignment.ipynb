{
  "nbformat": 4,
  "nbformat_minor": 0,
  "metadata": {
    "colab": {
      "name": "day 9 assignment.ipynb",
      "provenance": [],
      "authorship_tag": "ABX9TyPF3KDYkySipVdxKEoYh2XZ",
      "include_colab_link": true
    },
    "kernelspec": {
      "name": "python3",
      "display_name": "Python 3"
    }
  },
  "cells": [
    {
      "cell_type": "markdown",
      "metadata": {
        "id": "view-in-github",
        "colab_type": "text"
      },
      "source": [
        "<a href=\"https://colab.research.google.com/github/vinifred29/LetsUpgrade-python-assignment-/blob/master/day_9_assignment.ipynb\" target=\"_parent\"><img src=\"https://colab.research.google.com/assets/colab-badge.svg\" alt=\"Open In Colab\"/></a>"
      ]
    },
    {
      "cell_type": "code",
      "metadata": {
        "id": "LlNG_o36BkpZ",
        "colab_type": "code",
        "colab": {}
      },
      "source": [
        "def armsno():\n",
        "  for num in range(1,1000):\n",
        "    sum = 0\n",
        "    temp = num\n",
        "    while temp > 0:\n",
        "      digit = temp % 10\n",
        "      sum += digit ** 3\n",
        "      temp //= 10\n",
        "      if num == sum:\n",
        "        print(num,\"is armstrong no\")\n",
        "        yield num\n",
        "      \n",
        "\n"
      ],
      "execution_count": 32,
      "outputs": []
    },
    {
      "cell_type": "code",
      "metadata": {
        "id": "pXyePi6WBgnL",
        "colab_type": "code",
        "colab": {
          "base_uri": "https://localhost:8080/",
          "height": 185
        },
        "outputId": "22b7ff9e-a3b4-406f-cb9c-9bdd0f5a5a88"
      },
      "source": [
        "list(armsno())"
      ],
      "execution_count": 20,
      "outputs": [
        {
          "output_type": "stream",
          "text": [
            "1 is armstrong no\n",
            "64 is armstrong no\n",
            "125 is armstrong no\n",
            "153 is armstrong no\n",
            "216 is armstrong no\n",
            "370 is armstrong no\n",
            "371 is armstrong no\n",
            "407 is armstrong no\n",
            "729 is armstrong no\n"
          ],
          "name": "stdout"
        },
        {
          "output_type": "execute_result",
          "data": {
            "text/plain": [
              "[1, 64, 125, 153, 216, 370, 371, 407, 729]"
            ]
          },
          "metadata": {
            "tags": []
          },
          "execution_count": 20
        }
      ]
    },
    {
      "cell_type": "code",
      "metadata": {
        "id": "hi_BeGS597v5",
        "colab_type": "code",
        "colab": {}
      },
      "source": [
        "def checkprime(number):\n",
        "    for element in range(number):\n",
        "        if number % element == 0:\n",
        "            return False\n",
        "\n",
        "    return True\n",
        "\n",
        "def print_next_prime(number):\n",
        "    index = number\n",
        "    while True:\n",
        "        index += 1\n",
        "        if checkprime(index):\n",
        "            print(index)"
      ],
      "execution_count": 33,
      "outputs": []
    },
    {
      "cell_type": "code",
      "metadata": {
        "id": "BiS1BDFT71_v",
        "colab_type": "code",
        "colab": {
          "base_uri": "https://localhost:8080/",
          "height": 34
        },
        "outputId": "7d04472f-3e01-4f10-ae3e-74c5339a9953"
      },
      "source": [
        "%%writefile primes.py\n",
        "import unittest\n",
        "\n",
        "from primes import checkprime\n",
        "\n",
        "class PrimesTestCase(unittest.TestCase):\n",
        "  def test_is_five_prime(self):\n",
        "        self.assertTrue(checkprime(5))\n",
        "\n",
        "if __name__ == '__main__':\n",
        "    unittest.main()"
      ],
      "execution_count": 34,
      "outputs": [
        {
          "output_type": "stream",
          "text": [
            "Overwriting primes.py\n"
          ],
          "name": "stdout"
        }
      ]
    },
    {
      "cell_type": "code",
      "metadata": {
        "id": "HkwkORhJ76d_",
        "colab_type": "code",
        "colab": {}
      },
      "source": [
        "!python test_primes.py"
      ],
      "execution_count": null,
      "outputs": []
    }
  ]
}